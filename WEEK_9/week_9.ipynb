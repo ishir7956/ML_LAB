{
 "cells": [
  {
   "cell_type": "code",
   "execution_count": 15,
   "id": "a91c01d9",
   "metadata": {
    "scrolled": true
   },
   "outputs": [
    {
     "data": {
      "text/html": [
       "<div>\n",
       "<style scoped>\n",
       "    .dataframe tbody tr th:only-of-type {\n",
       "        vertical-align: middle;\n",
       "    }\n",
       "\n",
       "    .dataframe tbody tr th {\n",
       "        vertical-align: top;\n",
       "    }\n",
       "\n",
       "    .dataframe thead th {\n",
       "        text-align: right;\n",
       "    }\n",
       "</style>\n",
       "<table border=\"1\" class=\"dataframe\">\n",
       "  <thead>\n",
       "    <tr style=\"text-align: right;\">\n",
       "      <th></th>\n",
       "      <th>X1=Acid Durability</th>\n",
       "      <th>X2=Strength</th>\n",
       "      <th>Y=Classification</th>\n",
       "    </tr>\n",
       "  </thead>\n",
       "  <tbody>\n",
       "    <tr>\n",
       "      <th>0</th>\n",
       "      <td>7</td>\n",
       "      <td>7</td>\n",
       "      <td>Bad</td>\n",
       "    </tr>\n",
       "    <tr>\n",
       "      <th>1</th>\n",
       "      <td>7</td>\n",
       "      <td>4</td>\n",
       "      <td>Bad</td>\n",
       "    </tr>\n",
       "    <tr>\n",
       "      <th>2</th>\n",
       "      <td>3</td>\n",
       "      <td>4</td>\n",
       "      <td>Good</td>\n",
       "    </tr>\n",
       "    <tr>\n",
       "      <th>3</th>\n",
       "      <td>1</td>\n",
       "      <td>4</td>\n",
       "      <td>Good</td>\n",
       "    </tr>\n",
       "    <tr>\n",
       "      <th>4</th>\n",
       "      <td>4</td>\n",
       "      <td>5</td>\n",
       "      <td>Bad</td>\n",
       "    </tr>\n",
       "    <tr>\n",
       "      <th>5</th>\n",
       "      <td>3</td>\n",
       "      <td>5</td>\n",
       "      <td>Good</td>\n",
       "    </tr>\n",
       "    <tr>\n",
       "      <th>6</th>\n",
       "      <td>4</td>\n",
       "      <td>6</td>\n",
       "      <td>Bad</td>\n",
       "    </tr>\n",
       "    <tr>\n",
       "      <th>7</th>\n",
       "      <td>8</td>\n",
       "      <td>7</td>\n",
       "      <td>Bad</td>\n",
       "    </tr>\n",
       "    <tr>\n",
       "      <th>8</th>\n",
       "      <td>7</td>\n",
       "      <td>9</td>\n",
       "      <td>Good</td>\n",
       "    </tr>\n",
       "    <tr>\n",
       "      <th>9</th>\n",
       "      <td>8</td>\n",
       "      <td>8</td>\n",
       "      <td>Bad</td>\n",
       "    </tr>\n",
       "  </tbody>\n",
       "</table>\n",
       "</div>"
      ],
      "text/plain": [
       "   X1=Acid Durability  X2=Strength  Y=Classification\n",
       "0                   7             7              Bad\n",
       "1                   7             4              Bad\n",
       "2                   3             4             Good\n",
       "3                   1             4             Good\n",
       "4                   4             5              Bad\n",
       "5                   3             5             Good\n",
       "6                   4             6              Bad\n",
       "7                   8             7              Bad\n",
       "8                   7             9             Good\n",
       "9                   8             8              Bad"
      ]
     },
     "execution_count": 15,
     "metadata": {},
     "output_type": "execute_result"
    }
   ],
   "source": [
    "import pandas as pd\n",
    "import numpy as np\n",
    "import matplotlib.pyplot as plt\n",
    "from sklearn.model_selection import train_test_split\n",
    "df = pd.read_csv(\"lab9.csv\")\n",
    "df"
   ]
  },
  {
   "cell_type": "code",
   "execution_count": 19,
   "id": "a760adc2",
   "metadata": {},
   "outputs": [
    {
     "data": {
      "image/png": "[encoded data removed]",
      "text/plain": [
       "<Figure size 640x480 with 1 Axes>"
      ]
     },
     "metadata": {},
     "output_type": "display_data"
    }
   ],
   "source": [
    "point = (3, 7)\n",
    "k_values = [2, 3, 4]\n",
    "for k in k_values:\n",
    "    distances = []\n",
    "    for index, row in df.iterrows():\n",
    "        x1, x2, y = row['X1=Acid Durability'], row['X2=Strength '], row['Y=Classification']\n",
    "        euclidean_dist = np.sqrt((x1 - point[0]) ** 2 + (x2 - point[1]) ** 2)\n",
    "        manhattan_dist = abs(x1 - point[0]) + abs(x2 - point[1])\n",
    "        minkowski_dist = (abs(x1 - point[0]) ** 3 + abs(x2 - point[1]) ** 3) ** (1/3)\n",
    "        distances.append((euclidean_dist, manhattan_dist, minkowski_dist, y))\n",
    "\n",
    "    distances.sort()\n",
    "    nearest_neighbors = distances[:k]\n",
    "    good_count = sum(1 for _, _, _, label in nearest_neighbors if label == 'Good')\n",
    "    bad_count = k - good_count\n",
    "\n",
    "    prediction = 'Good' if good_count > bad_count else 'Bad'\n",
    "\n",
    "    plt.scatter(point[0], point[1], marker='x', c='blue', label=f'K={k}, Prediction={prediction}')\n",
    "\n",
    "plt.legend()\n",
    "plt.xlabel(\"Acid Durability (seconds)\")\n",
    "plt.ylabel(\"Strength (kg/square meter)\")\n",
    "plt.show()"
   ]
  },
  {
   "cell_type": "code",
   "execution_count": null,
   "id": "e8e413ea",
   "metadata": {},
   "outputs": [],
   "source": []
  }
 ],
 "metadata": {
  "kernelspec": {
   "display_name": "Python 3 (ipykernel)",
   "language": "python",
   "name": "python3"
  },
  "language_info": {
   "codemirror_mode": {
    "name": "ipython",
    "version": 3
   },
   "file_extension": ".py",
   "mimetype": "text/x-python",
   "name": "python",
   "nbconvert_exporter": "python",
   "pygments_lexer": "ipython3",
   "version": "3.9.13"
  }
 },
 "nbformat": 4,
 "nbformat_minor": 5
}
