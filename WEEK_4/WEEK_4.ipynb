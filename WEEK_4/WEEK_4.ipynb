{
 "cells": [
  {
   "cell_type": "markdown",
   "id": "2e1407cb",
   "metadata": {},
   "source": [
    "# Q1"
   ]
  },
  {
   "cell_type": "code",
   "execution_count": 18,
   "id": "6f6cb102",
   "metadata": {},
   "outputs": [],
   "source": [
    "import pandas as pd\n",
    "import numpy as np\n",
    "from sklearn.linear_model import LinearRegression\n",
    "from sklearn.metrics import mean_squared_error"
   ]
  },
  {
   "cell_type": "code",
   "execution_count": 19,
   "id": "c09c37a3",
   "metadata": {},
   "outputs": [
    {
     "data": {
      "text/html": [
       "<div>\n",
       "<style scoped>\n",
       "    .dataframe tbody tr th:only-of-type {\n",
       "        vertical-align: middle;\n",
       "    }\n",
       "\n",
       "    .dataframe tbody tr th {\n",
       "        vertical-align: top;\n",
       "    }\n",
       "\n",
       "    .dataframe thead th {\n",
       "        text-align: right;\n",
       "    }\n",
       "</style>\n",
       "<table border=\"1\" class=\"dataframe\">\n",
       "  <thead>\n",
       "    <tr style=\"text-align: right;\">\n",
       "      <th></th>\n",
       "      <th>Year</th>\n",
       "      <th>Price (24 karat per 10 grams)</th>\n",
       "    </tr>\n",
       "  </thead>\n",
       "  <tbody>\n",
       "    <tr>\n",
       "      <th>0</th>\n",
       "      <td>2022</td>\n",
       "      <td>52950</td>\n",
       "    </tr>\n",
       "    <tr>\n",
       "      <th>1</th>\n",
       "      <td>2021</td>\n",
       "      <td>50045</td>\n",
       "    </tr>\n",
       "    <tr>\n",
       "      <th>2</th>\n",
       "      <td>2020</td>\n",
       "      <td>48651</td>\n",
       "    </tr>\n",
       "    <tr>\n",
       "      <th>3</th>\n",
       "      <td>2019</td>\n",
       "      <td>35220</td>\n",
       "    </tr>\n",
       "    <tr>\n",
       "      <th>4</th>\n",
       "      <td>2018</td>\n",
       "      <td>31438</td>\n",
       "    </tr>\n",
       "  </tbody>\n",
       "</table>\n",
       "</div>"
      ],
      "text/plain": [
       "   Year  Price (24 karat per 10 grams)\n",
       "0  2022                          52950\n",
       "1  2021                          50045\n",
       "2  2020                          48651\n",
       "3  2019                          35220\n",
       "4  2018                          31438"
      ]
     },
     "execution_count": 19,
     "metadata": {},
     "output_type": "execute_result"
    }
   ],
   "source": [
    "df = pd.read_csv('/home/student/Desktop/210962062/WEEK_4/gold_rate.csv')\n",
    "df.head()"
   ]
  },
  {
   "cell_type": "markdown",
   "id": "d367b966",
   "metadata": {},
   "source": [
    "### FITTED LINEAR REGRESSION"
   ]
  },
  {
   "cell_type": "code",
   "execution_count": 20,
   "id": "8488af4f",
   "metadata": {},
   "outputs": [
    {
     "name": "stdout",
     "output_type": "stream",
     "text": [
      "Fitted Linear Regression Equation: Price = 675.37 * Year + -1336276.89\n",
      "Coefficients from sklearn model are:\n",
      "Slope:  675.3685748561937\n",
      "Intercept:  -1336276.8919068566\n"
     ]
    }
   ],
   "source": [
    "x=np.array(df['Year'].values).reshape(-1, 1)\n",
    "y=np.array(df['Price (24 karat per 10 grams)'].values)\n",
    "model = LinearRegression()\n",
    "model.fit(x, y)\n",
    "\n",
    "slope = model.coef_[0]\n",
    "intercept = model.intercept_\n",
    "\n",
    "print(f\"Fitted Linear Regression Equation: Price = {slope:.2f} * Year + {intercept:.2f}\")\n",
    "print(\"Coefficients from sklearn model are:\")\n",
    "print(\"Slope: \",slope)\n",
    "print(\"Intercept: \",intercept)"
   ]
  },
  {
   "cell_type": "markdown",
   "id": "84fbbfad",
   "metadata": {},
   "source": [
    "### MANUAL PROGRAM"
   ]
  },
  {
   "cell_type": "code",
   "execution_count": 21,
   "id": "136d1237",
   "metadata": {},
   "outputs": [
    {
     "name": "stdout",
     "output_type": "stream",
     "text": [
      "Coefficients from Manual Calculation:\n",
      "Slope:  [675.36857486]\n",
      "Intercept:  [-1336276.89190686]\n"
     ]
    }
   ],
   "source": [
    "mean_x = np.mean(x)\n",
    "mean_y = np.mean(y)\n",
    "n=len(x)\n",
    "numer=0\n",
    "denom=0\n",
    "for i in range(n):\n",
    "    numer+=(x[i]-mean_x)*(y[i]-mean_y)\n",
    "    denom+=(x[i]-mean_x)**2\n",
    "m=numer/denom\n",
    "c=mean_y-(m*mean_x)\n",
    "print(\"Coefficients from Manual Calculation:\")\n",
    "print(\"Slope: \",m)\n",
    "print(\"Intercept: \",c)"
   ]
  },
  {
   "cell_type": "markdown",
   "id": "2ea969b1",
   "metadata": {},
   "source": [
    "### GOLD PRICE PREDICTION"
   ]
  },
  {
   "cell_type": "code",
   "execution_count": 11,
   "id": "e04a58ac",
   "metadata": {},
   "outputs": [
    {
     "name": "stdout",
     "output_type": "stream",
     "text": [
      "Predicted price of Gold from manual calculation:  [31344.47217694]\n",
      "Predicted price of Gold from sklearn model:  31344.472176935757\n"
     ]
    }
   ],
   "source": [
    "year_2025 = 2025\n",
    "predicted_price_2025_manual = m * year_2025 + c\n",
    "predicted_price_2025_sklearn = model.predict([[year_2025]])[0]\n",
    "print(\"Predicted price of Gold from manual calculation: \",predicted_price_2025_manual)\n",
    "print(\"Predicted price of Gold from sklearn model: \",predicted_price_2025_sklearn)"
   ]
  },
  {
   "cell_type": "markdown",
   "id": "fdbddef6",
   "metadata": {},
   "source": [
    "### ERRORS"
   ]
  },
  {
   "cell_type": "code",
   "execution_count": 22,
   "id": "a42a574e",
   "metadata": {},
   "outputs": [
    {
     "name": "stdout",
     "output_type": "stream",
     "text": [
      "Error Metrics for Manual Calculation:\n",
      "MSE (Manual): 62643986.56490646\n",
      "RMSE (Manual): 7914.795421544796\n",
      "\n",
      "Error Metrics for sklearn Calculation:\n",
      "MSE (sklearn): 62643986.56490642\n",
      "RMSE (sklearn): 7914.7954215447935\n"
     ]
    }
   ],
   "source": [
    "predicted_prices_manual = m * x + c\n",
    "predicted_prices_sklearn = model.predict(x)\n",
    "mse_manual = mean_squared_error(prices, predicted_prices_manual)\n",
    "rmse_manual = np.sqrt(mse_manual)\n",
    "mse_sklearn = mean_squared_error(prices, predicted_prices_sklearn)\n",
    "rmse_sklearn = np.sqrt(mse_sklearn)\n",
    "\n",
    "print(\"Error Metrics for Manual Calculation:\")\n",
    "print(\"MSE (Manual):\", mse_manual)\n",
    "print(\"RMSE (Manual):\", rmse_manual)\n",
    "\n",
    "print(\"\\nError Metrics for sklearn Calculation:\")\n",
    "print(\"MSE (sklearn):\", mse_sklearn)\n",
    "print(\"RMSE (sklearn):\", rmse_sklearn)"
   ]
  },
  {
   "cell_type": "code",
   "execution_count": null,
   "id": "f7fc1cd2",
   "metadata": {},
   "outputs": [],
   "source": []
  }
 ],
 "metadata": {
  "kernelspec": {
   "display_name": "Python 3 (ipykernel)",
   "language": "python",
   "name": "python3"
  },
  "language_info": {
   "codemirror_mode": {
    "name": "ipython",
    "version": 3
   },
   "file_extension": ".py",
   "mimetype": "text/x-python",
   "name": "python",
   "nbconvert_exporter": "python",
   "pygments_lexer": "ipython3",
   "version": "3.9.13"
  }
 },
 "nbformat": 4,
 "nbformat_minor": 5
}
