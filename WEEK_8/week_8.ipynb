{
 "cells": [
  {
   "cell_type": "markdown",
   "id": "e5bebc92",
   "metadata": {},
   "source": [
    "# Q1"
   ]
  },
  {
   "cell_type": "markdown",
   "id": "9e514370",
   "metadata": {},
   "source": [
    "### a."
   ]
  },
  {
   "cell_type": "code",
   "execution_count": 27,
   "id": "7442445d",
   "metadata": {},
   "outputs": [
    {
     "name": "stdout",
     "output_type": "stream",
     "text": [
      "Probability of the student being hosteler given that he/she has A grade:  0.6923076923076923\n"
     ]
    }
   ],
   "source": [
    "#Bayes Function\n",
    "def bayes(a, b, ba):\n",
    "    return (ba*a)/b\n",
    "#Given Data\n",
    "p_hostel = 0.6\n",
    "p_day = 0.4\n",
    "p_hostel_A = 0.3\n",
    "p_day_A = 0.2\n",
    "p_A = (p_hostel*p_hostel_A) + (p_day*p_day_A) #Probability of getting A grade\n",
    "ans = bayes(p_hostel, p_A, p_hostel_A)\n",
    "print(\"Probability of the student being hosteler given that he/she has A grade: \", ans)"
   ]
  },
  {
   "cell_type": "markdown",
   "id": "b0a61f36",
   "metadata": {},
   "source": [
    "### b. "
   ]
  },
  {
   "cell_type": "code",
   "execution_count": 28,
   "id": "8ece6cc6",
   "metadata": {},
   "outputs": [
    {
     "name": "stdout",
     "output_type": "stream",
     "text": [
      "Probability of having the disease given a positive test result (Naive Bayes): 0.33108108108108103\n"
     ]
    }
   ],
   "source": [
    "#Bayes Function\n",
    "def bayes(a, b, ba):\n",
    "    return (ba*a)/b\n",
    "#Given Data\n",
    "p_disease = 0.01\n",
    "sensitivity = 0.98 #True Positive\n",
    "fp = 0.02 #False Positive\n",
    "pt = (p_disease*sensitivity) + ((1-p_disease)*fp) #Prob. that shows positive\n",
    "ans = bayes(p_disease, pt, sensitivity)\n",
    "print(\"Probability of having the disease given a positive test result (Naive Bayes):\", ans)"
   ]
  },
  {
   "cell_type": "markdown",
   "id": "04d6d691",
   "metadata": {},
   "source": [
    "# Q2"
   ]
  },
  {
   "cell_type": "code",
   "execution_count": 29,
   "id": "6010cdcb",
   "metadata": {
    "scrolled": true
   },
   "outputs": [
    {
     "name": "stdout",
     "output_type": "stream",
     "text": [
      "When the weather is sunny, the player should play.\n"
     ]
    }
   ],
   "source": [
    "import pandas as pd\n",
    "import numpy as np\n",
    "df = pd.read_csv(\"/home/student/Desktop/210962062/WEEK_8/lab8.csv\")\n",
    "x = np.array(df['outlook'].values)\n",
    "y = np.array(df['play'].values)\n",
    "def p(a, x):\n",
    "    c = 0\n",
    "    for i in range(len(x)):\n",
    "        if x[i] == a:\n",
    "            c = c+1\n",
    "    return c/len(x)\n",
    "def cp(a, b, x, y):\n",
    "    c = t = 0\n",
    "    for i in range(len(x)):\n",
    "        if y[i] == b:\n",
    "            t = t+1\n",
    "            if x[i] == a:\n",
    "                c = c+1\n",
    "    return c/t\n",
    "def bayes(a, b, x, y):\n",
    "    return (p(a, x)*cp(a, b, x, y))/p(b, y)\n",
    "def classify(x):\n",
    "    if x>=0.5:\n",
    "        return 'YES'\n",
    "    else:\n",
    "        return 'NO'\n",
    "ps = bayes('yes', 'sunny', y, x)\n",
    "ans = classify(ps)\n",
    "print(f\"When the weather is sunny, the player should {'play' if ans == 'YES' else 'not play'}.\")"
   ]
  },
  {
   "cell_type": "code",
   "execution_count": null,
   "id": "367c0168",
   "metadata": {},
   "outputs": [],
   "source": []
  }
 ],
 "metadata": {
  "kernelspec": {
   "display_name": "Python 3 (ipykernel)",
   "language": "python",
   "name": "python3"
  },
  "language_info": {
   "codemirror_mode": {
    "name": "ipython",
    "version": 3
   },
   "file_extension": ".py",
   "mimetype": "text/x-python",
   "name": "python",
   "nbconvert_exporter": "python",
   "pygments_lexer": "ipython3",
   "version": "3.9.13"
  }
 },
 "nbformat": 4,
 "nbformat_minor": 5
}
